{
 "cells": [
  {
   "cell_type": "code",
   "execution_count": 1,
   "id": "a865d814",
   "metadata": {},
   "outputs": [],
   "source": [
    "import numpy as np\n",
    "import matplotlib.pyplot as plt\n",
    "import torch\n",
    "import torch.nn as nn\n",
    "import torch.nn.functional as F\n",
    "from torchvision import transforms, datasets\n",
    "from torch.utils.data import DataLoader"
   ]
  },
  {
   "cell_type": "code",
   "execution_count": 2,
   "id": "5e26d3d1",
   "metadata": {},
   "outputs": [
    {
     "name": "stdout",
     "output_type": "stream",
     "text": [
      "Using PyTorch verison :  1.13.1+cpu Device:  cpu\n"
     ]
    }
   ],
   "source": [
    "if torch.cuda.is_available():\n",
    "    DEVICE = torch.device(\"cuda\")\n",
    "else:\n",
    "    DEVICE = torch.device(\"cpu\")\n",
    "    \n",
    "print(\"Using PyTorch verison : \", torch.__version__, 'Device: ', DEVICE)"
   ]
  },
  {
   "cell_type": "code",
   "execution_count": 3,
   "id": "17404799",
   "metadata": {},
   "outputs": [],
   "source": [
    "BATCH_SIZE = 32\n",
    "EPOCHS = 10"
   ]
  },
  {
   "cell_type": "code",
   "execution_count": 4,
   "id": "216044cb",
   "metadata": {},
   "outputs": [],
   "source": [
    "train_dataset = datasets.MNIST(root = '../data/MNIST', train = True, download = True, transform = transforms.ToTensor())\n",
    "test_dataset = datasets.MNIST(root = '../data/MNIST', train = False, transform = transforms.ToTensor())\n",
    "train_loader = DataLoader(dataset = train_dataset, batch_size = BATCH_SIZE, shuffle = True)\n",
    "test_loader = DataLoader(dataset = test_dataset, batch_size = BATCH_SIZE, shuffle = False)"
   ]
  },
  {
   "cell_type": "code",
   "execution_count": 5,
   "id": "e1e249bd",
   "metadata": {},
   "outputs": [
    {
     "name": "stdout",
     "output_type": "stream",
     "text": [
      "X_train :  torch.Size([32, 1, 28, 28]) type : torch.FloatTensor\n",
      "y_train :  torch.Size([32]) type : torch.LongTensor\n"
     ]
    }
   ],
   "source": [
    "for (X_train, y_train) in train_loader:\n",
    "    print(\"X_train : \", X_train.size(), 'type :', X_train.type())\n",
    "    print(\"y_train : \", y_train.size(), 'type :', y_train.type())\n",
    "    break\n",
    "    \n",
    "## 32개의 이미지 데이터가 1개의 minibatch로 구성되어 있고, 그림은 28 x 28 로 구성되어 있음\n"
   ]
  },
  {
   "cell_type": "code",
   "execution_count": 6,
   "id": "e7ba100e",
   "metadata": {},
   "outputs": [
    {
     "data": {
      "image/png": "[encoded data removed]",
      "text/plain": [
       "<Figure size 1000x100 with 10 Axes>"
      ]
     },
     "metadata": {},
     "output_type": "display_data"
    }
   ],
   "source": [
    "pltsize = 1\n",
    "plt.figure(figsize = (10 * pltsize, pltsize))\n",
    "\n",
    "for i in range(10):\n",
    "    plt.subplot(1, 10, i+1)\n",
    "    plt.axis(\"off\")\n",
    "    plt.imshow(X_train[i, :, :, :].numpy().reshape(28,28), cmap = 'gray_r')\n",
    "    plt.title(\"class : \" + str(y_train[i].item()))"
   ]
  },
  {
   "cell_type": "code",
   "execution_count": 12,
   "id": "616e1a2d",
   "metadata": {},
   "outputs": [],
   "source": [
    "class Net(nn.Module):\n",
    "    def __init__(self): #내가 사용할 layer 정의\n",
    "        super(Net, self).__init__()\n",
    "        self.fc1 = nn.Linear(28*28, 512)\n",
    "        self.fc2 = nn.Linear(512 , 256)\n",
    "        self.fc3 = nn.Linear(256, 10)\n",
    "        self.dropout_prob = 0.5\n",
    "    def forward(self, x): # 내가 넣을 데이터는 x로 잡고 모델 구성시작.\n",
    "        x = x.view(-1, 28 * 28)\n",
    "        x = self.fc1(x)\n",
    "        x = F.relu(x)\n",
    "        x = F.dropout(x, training = self.training, p = self.dropout_prob)\n",
    "        x = self.fc2(x)\n",
    "        x = F.relu(x)\n",
    "        x = F.dropout(x, training = self.training, p = self.dropout_prob)\n",
    "        x = self.fc3(x)\n",
    "        x = F.log_softmax(x, dim = 1)\n",
    "        return x\n",
    "        "
   ]
  },
  {
   "cell_type": "code",
   "execution_count": 13,
   "id": "e2684a5d",
   "metadata": {},
   "outputs": [
    {
     "name": "stdout",
     "output_type": "stream",
     "text": [
      "Net(\n",
      "  (fc1): Linear(in_features=784, out_features=512, bias=True)\n",
      "  (fc2): Linear(in_features=512, out_features=256, bias=True)\n",
      "  (fc3): Linear(in_features=256, out_features=10, bias=True)\n",
      ")\n"
     ]
    }
   ],
   "source": [
    "model = Net().to(DEVICE)\n",
    "optimizer = torch.optim.SGD(model.parameters(), lr = 0.01, momentum = 0.5)\n",
    "criterion = nn.CrossEntropyLoss()\n",
    "\n",
    "print(model)"
   ]
  },
  {
   "cell_type": "code",
   "execution_count": 14,
   "id": "cec515f8",
   "metadata": {},
   "outputs": [],
   "source": [
    "def train(model, train_loader ,optimizer, log_interval):\n",
    "    model.train() # train 상태로 규정\n",
    "    for batch_idx, (image, label) in enumerate(train_loader):\n",
    "        image = image.to(DEVICE)\n",
    "        label = label.to(DEVICE)\n",
    "        optimizer.zero_grad()\n",
    "        output = model(image)\n",
    "        loss = criterion(output, label)\n",
    "        loss.backward()\n",
    "        optimizer.step()\n",
    "        \n",
    "        if batch_idx % log_interval == 0:\n",
    "            print(\"Train Epoch : {} [{}/{} ({:.0f}%)] \\t Train Loss : {:.6f}\".format(Epoch, batch_idx * len(image), len(train_loader.dataset),\n",
    "                 100. * batch_idx / len(train_loader), loss.item()))"
   ]
  },
  {
   "cell_type": "code",
   "execution_count": 15,
   "id": "1cae0afa",
   "metadata": {},
   "outputs": [],
   "source": [
    "def evaluate(model, test_loader):\n",
    "    model.eval() # 평가 상태로 규정\n",
    "    test_loss = 0\n",
    "    correct = 0\n",
    "    \n",
    "    with torch.no_grad():\n",
    "        for image, label in test_loader:\n",
    "            image = image.to(DEVICE)\n",
    "            label = label.to(DEVICE)\n",
    "            output = model(image)\n",
    "            test_loss += criterion(output, label).item()\n",
    "            prediction = output.max(1, keepdim = True)[1]\n",
    "            correct += prediction.eq(label.view_as(prediction)).sum().item()\n",
    "            \n",
    "    test_loss /= len(test_loader.dataset)\n",
    "    test_accuracy = 100. * correct / len(test_loader.dataset)\n",
    "    return test_loss, test_accuracy\n",
    "    "
   ]
  },
  {
   "cell_type": "code",
   "execution_count": 16,
   "id": "c96fb679",
   "metadata": {
    "scrolled": true
   },
   "outputs": [
    {
     "name": "stdout",
     "output_type": "stream",
     "text": [
      "Train Epoch : 1 [0/60000 (0%)] \t Train Loss : 2.329427\n",
      "Train Epoch : 1 [6400/60000 (11%)] \t Train Loss : 2.033863\n",
      "Train Epoch : 1 [12800/60000 (21%)] \t Train Loss : 1.018622\n",
      "Train Epoch : 1 [19200/60000 (32%)] \t Train Loss : 0.872648\n",
      "Train Epoch : 1 [25600/60000 (43%)] \t Train Loss : 0.480712\n",
      "Train Epoch : 1 [32000/60000 (53%)] \t Train Loss : 0.737614\n",
      "Train Epoch : 1 [38400/60000 (64%)] \t Train Loss : 0.515232\n",
      "Train Epoch : 1 [44800/60000 (75%)] \t Train Loss : 0.385011\n",
      "Train Epoch : 1 [51200/60000 (85%)] \t Train Loss : 0.515804\n",
      "Train Epoch : 1 [57600/60000 (96%)] \t Train Loss : 0.473339\n",
      "\n",
      " [EPOCH: 1], \t Test Loss : 0.0100, \t Test Accuracy : 90.84 %\n",
      "\n",
      "Train Epoch : 2 [0/60000 (0%)] \t Train Loss : 0.143281\n",
      "Train Epoch : 2 [6400/60000 (11%)] \t Train Loss : 0.388551\n",
      "Train Epoch : 2 [12800/60000 (21%)] \t Train Loss : 0.728986\n",
      "Train Epoch : 2 [19200/60000 (32%)] \t Train Loss : 0.315718\n",
      "Train Epoch : 2 [25600/60000 (43%)] \t Train Loss : 0.429544\n",
      "Train Epoch : 2 [32000/60000 (53%)] \t Train Loss : 0.227398\n",
      "Train Epoch : 2 [38400/60000 (64%)] \t Train Loss : 0.522480\n",
      "Train Epoch : 2 [44800/60000 (75%)] \t Train Loss : 0.348573\n",
      "Train Epoch : 2 [51200/60000 (85%)] \t Train Loss : 0.129369\n",
      "Train Epoch : 2 [57600/60000 (96%)] \t Train Loss : 0.260892\n",
      "\n",
      " [EPOCH: 2], \t Test Loss : 0.0068, \t Test Accuracy : 93.72 %\n",
      "\n",
      "Train Epoch : 3 [0/60000 (0%)] \t Train Loss : 0.304281\n",
      "Train Epoch : 3 [6400/60000 (11%)] \t Train Loss : 0.228902\n",
      "Train Epoch : 3 [12800/60000 (21%)] \t Train Loss : 0.356224\n",
      "Train Epoch : 3 [19200/60000 (32%)] \t Train Loss : 0.463336\n",
      "Train Epoch : 3 [25600/60000 (43%)] \t Train Loss : 0.262346\n",
      "Train Epoch : 3 [32000/60000 (53%)] \t Train Loss : 0.389527\n",
      "Train Epoch : 3 [38400/60000 (64%)] \t Train Loss : 0.321914\n",
      "Train Epoch : 3 [44800/60000 (75%)] \t Train Loss : 0.143627\n",
      "Train Epoch : 3 [51200/60000 (85%)] \t Train Loss : 0.396226\n",
      "Train Epoch : 3 [57600/60000 (96%)] \t Train Loss : 0.296888\n",
      "\n",
      " [EPOCH: 3], \t Test Loss : 0.0054, \t Test Accuracy : 94.81 %\n",
      "\n",
      "Train Epoch : 4 [0/60000 (0%)] \t Train Loss : 0.079575\n",
      "Train Epoch : 4 [6400/60000 (11%)] \t Train Loss : 0.294305\n",
      "Train Epoch : 4 [12800/60000 (21%)] \t Train Loss : 0.150226\n",
      "Train Epoch : 4 [19200/60000 (32%)] \t Train Loss : 0.114750\n",
      "Train Epoch : 4 [25600/60000 (43%)] \t Train Loss : 0.481802\n",
      "Train Epoch : 4 [32000/60000 (53%)] \t Train Loss : 0.169491\n",
      "Train Epoch : 4 [38400/60000 (64%)] \t Train Loss : 0.398327\n",
      "Train Epoch : 4 [44800/60000 (75%)] \t Train Loss : 0.242223\n",
      "Train Epoch : 4 [51200/60000 (85%)] \t Train Loss : 0.167339\n",
      "Train Epoch : 4 [57600/60000 (96%)] \t Train Loss : 0.374410\n",
      "\n",
      " [EPOCH: 4], \t Test Loss : 0.0045, \t Test Accuracy : 95.56 %\n",
      "\n",
      "Train Epoch : 5 [0/60000 (0%)] \t Train Loss : 0.108731\n",
      "Train Epoch : 5 [6400/60000 (11%)] \t Train Loss : 0.107483\n",
      "Train Epoch : 5 [12800/60000 (21%)] \t Train Loss : 0.194993\n",
      "Train Epoch : 5 [19200/60000 (32%)] \t Train Loss : 0.194383\n",
      "Train Epoch : 5 [25600/60000 (43%)] \t Train Loss : 0.198606\n",
      "Train Epoch : 5 [32000/60000 (53%)] \t Train Loss : 0.048673\n",
      "Train Epoch : 5 [38400/60000 (64%)] \t Train Loss : 0.097658\n",
      "Train Epoch : 5 [44800/60000 (75%)] \t Train Loss : 0.226942\n",
      "Train Epoch : 5 [51200/60000 (85%)] \t Train Loss : 0.047417\n",
      "Train Epoch : 5 [57600/60000 (96%)] \t Train Loss : 0.037893\n",
      "\n",
      " [EPOCH: 5], \t Test Loss : 0.0039, \t Test Accuracy : 96.31 %\n",
      "\n",
      "Train Epoch : 6 [0/60000 (0%)] \t Train Loss : 0.179253\n",
      "Train Epoch : 6 [6400/60000 (11%)] \t Train Loss : 0.054796\n",
      "Train Epoch : 6 [12800/60000 (21%)] \t Train Loss : 0.239547\n",
      "Train Epoch : 6 [19200/60000 (32%)] \t Train Loss : 0.294276\n",
      "Train Epoch : 6 [25600/60000 (43%)] \t Train Loss : 0.083544\n",
      "Train Epoch : 6 [32000/60000 (53%)] \t Train Loss : 0.193305\n",
      "Train Epoch : 6 [38400/60000 (64%)] \t Train Loss : 0.046127\n",
      "Train Epoch : 6 [44800/60000 (75%)] \t Train Loss : 0.091071\n",
      "Train Epoch : 6 [51200/60000 (85%)] \t Train Loss : 0.190822\n",
      "Train Epoch : 6 [57600/60000 (96%)] \t Train Loss : 0.195960\n",
      "\n",
      " [EPOCH: 6], \t Test Loss : 0.0034, \t Test Accuracy : 96.65 %\n",
      "\n",
      "Train Epoch : 7 [0/60000 (0%)] \t Train Loss : 0.046674\n",
      "Train Epoch : 7 [6400/60000 (11%)] \t Train Loss : 0.183412\n",
      "Train Epoch : 7 [12800/60000 (21%)] \t Train Loss : 0.062980\n",
      "Train Epoch : 7 [19200/60000 (32%)] \t Train Loss : 0.102823\n",
      "Train Epoch : 7 [25600/60000 (43%)] \t Train Loss : 0.153040\n",
      "Train Epoch : 7 [32000/60000 (53%)] \t Train Loss : 0.279285\n",
      "Train Epoch : 7 [38400/60000 (64%)] \t Train Loss : 0.509263\n",
      "Train Epoch : 7 [44800/60000 (75%)] \t Train Loss : 0.124067\n",
      "Train Epoch : 7 [51200/60000 (85%)] \t Train Loss : 0.215435\n",
      "Train Epoch : 7 [57600/60000 (96%)] \t Train Loss : 0.208961\n",
      "\n",
      " [EPOCH: 7], \t Test Loss : 0.0032, \t Test Accuracy : 96.93 %\n",
      "\n",
      "Train Epoch : 8 [0/60000 (0%)] \t Train Loss : 0.202957\n",
      "Train Epoch : 8 [6400/60000 (11%)] \t Train Loss : 0.124739\n",
      "Train Epoch : 8 [12800/60000 (21%)] \t Train Loss : 0.088633\n",
      "Train Epoch : 8 [19200/60000 (32%)] \t Train Loss : 0.080183\n",
      "Train Epoch : 8 [25600/60000 (43%)] \t Train Loss : 0.020806\n",
      "Train Epoch : 8 [32000/60000 (53%)] \t Train Loss : 0.022091\n",
      "Train Epoch : 8 [38400/60000 (64%)] \t Train Loss : 0.047666\n",
      "Train Epoch : 8 [44800/60000 (75%)] \t Train Loss : 0.301823\n",
      "Train Epoch : 8 [51200/60000 (85%)] \t Train Loss : 0.321244\n",
      "Train Epoch : 8 [57600/60000 (96%)] \t Train Loss : 0.065741\n",
      "\n",
      " [EPOCH: 8], \t Test Loss : 0.0030, \t Test Accuracy : 97.01 %\n",
      "\n",
      "Train Epoch : 9 [0/60000 (0%)] \t Train Loss : 0.329224\n",
      "Train Epoch : 9 [6400/60000 (11%)] \t Train Loss : 0.069399\n",
      "Train Epoch : 9 [12800/60000 (21%)] \t Train Loss : 0.379166\n",
      "Train Epoch : 9 [19200/60000 (32%)] \t Train Loss : 0.219609\n",
      "Train Epoch : 9 [25600/60000 (43%)] \t Train Loss : 0.214041\n",
      "Train Epoch : 9 [32000/60000 (53%)] \t Train Loss : 0.205814\n",
      "Train Epoch : 9 [38400/60000 (64%)] \t Train Loss : 0.160221\n",
      "Train Epoch : 9 [44800/60000 (75%)] \t Train Loss : 0.159679\n",
      "Train Epoch : 9 [51200/60000 (85%)] \t Train Loss : 0.292469\n",
      "Train Epoch : 9 [57600/60000 (96%)] \t Train Loss : 0.171546\n",
      "\n",
      " [EPOCH: 9], \t Test Loss : 0.0028, \t Test Accuracy : 97.30 %\n",
      "\n",
      "Train Epoch : 10 [0/60000 (0%)] \t Train Loss : 0.103579\n",
      "Train Epoch : 10 [6400/60000 (11%)] \t Train Loss : 0.046706\n",
      "Train Epoch : 10 [12800/60000 (21%)] \t Train Loss : 0.234350\n",
      "Train Epoch : 10 [19200/60000 (32%)] \t Train Loss : 0.063131\n",
      "Train Epoch : 10 [25600/60000 (43%)] \t Train Loss : 0.094322\n",
      "Train Epoch : 10 [32000/60000 (53%)] \t Train Loss : 0.174222\n",
      "Train Epoch : 10 [38400/60000 (64%)] \t Train Loss : 0.105378\n",
      "Train Epoch : 10 [44800/60000 (75%)] \t Train Loss : 0.069723\n",
      "Train Epoch : 10 [51200/60000 (85%)] \t Train Loss : 0.023860\n",
      "Train Epoch : 10 [57600/60000 (96%)] \t Train Loss : 0.157952\n",
      "\n",
      " [EPOCH: 10], \t Test Loss : 0.0026, \t Test Accuracy : 97.56 %\n",
      "\n"
     ]
    }
   ],
   "source": [
    "for Epoch in range(1, EPOCHS + 1):\n",
    "    train(model, train_loader ,optimizer, log_interval = 200)\n",
    "    test_loss, test_accuracy = evaluate(model, test_loader)\n",
    "    print(\"\\n [EPOCH: {}], \\t Test Loss : {:.4f}, \\t Test Accuracy : {:.2f} %\\n\".format(Epoch, test_loss, test_accuracy))"
   ]
  },
  {
   "cell_type": "code",
   "execution_count": null,
   "id": "45c3672f",
   "metadata": {},
   "outputs": [],
   "source": []
  }
 ],
 "metadata": {
  "kernelspec": {
   "display_name": "NLP",
   "language": "python",
   "name": "nlp"
  },
  "language_info": {
   "codemirror_mode": {
    "name": "ipython",
    "version": 3
   },
   "file_extension": ".py",
   "mimetype": "text/x-python",
   "name": "python",
   "nbconvert_exporter": "python",
   "pygments_lexer": "ipython3",
   "version": "3.7.16"
  }
 },
 "nbformat": 4,
 "nbformat_minor": 5
}
