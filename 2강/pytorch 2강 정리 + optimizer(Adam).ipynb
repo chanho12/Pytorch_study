{
 "cells": [
  {
   "cell_type": "code",
   "execution_count": 1,
   "id": "a865d814",
   "metadata": {},
   "outputs": [],
   "source": [
    "import numpy as np\n",
    "import matplotlib.pyplot as plt\n",
    "import torch\n",
    "import torch.nn as nn\n",
    "import torch.nn.functional as F\n",
    "from torchvision import transforms, datasets\n",
    "from torch.utils.data import DataLoader"
   ]
  },
  {
   "cell_type": "code",
   "execution_count": 2,
   "id": "5e26d3d1",
   "metadata": {},
   "outputs": [
    {
     "name": "stdout",
     "output_type": "stream",
     "text": [
      "Using PyTorch verison :  1.13.1+cpu Device:  cpu\n"
     ]
    }
   ],
   "source": [
    "if torch.cuda.is_available():\n",
    "    DEVICE = torch.device(\"cuda\")\n",
    "else:\n",
    "    DEVICE = torch.device(\"cpu\")\n",
    "    \n",
    "print(\"Using PyTorch verison : \", torch.__version__, 'Device: ', DEVICE)"
   ]
  },
  {
   "cell_type": "code",
   "execution_count": 3,
   "id": "17404799",
   "metadata": {},
   "outputs": [],
   "source": [
    "BATCH_SIZE = 32\n",
    "EPOCHS = 10"
   ]
  },
  {
   "cell_type": "code",
   "execution_count": 4,
   "id": "216044cb",
   "metadata": {},
   "outputs": [],
   "source": [
    "train_dataset = datasets.MNIST(root = '../data/MNIST', train = True, download = True, transform = transforms.ToTensor())\n",
    "test_dataset = datasets.MNIST(root = '../data/MNIST', train = False, transform = transforms.ToTensor())\n",
    "train_loader = DataLoader(dataset = train_dataset, batch_size = BATCH_SIZE, shuffle = True)\n",
    "test_loader = DataLoader(dataset = test_dataset, batch_size = BATCH_SIZE, shuffle = False)"
   ]
  },
  {
   "cell_type": "code",
   "execution_count": 5,
   "id": "e1e249bd",
   "metadata": {},
   "outputs": [
    {
     "name": "stdout",
     "output_type": "stream",
     "text": [
      "X_train :  torch.Size([32, 1, 28, 28]) type : torch.FloatTensor\n",
      "y_train :  torch.Size([32]) type : torch.LongTensor\n"
     ]
    }
   ],
   "source": [
    "for (X_train, y_train) in train_loader:\n",
    "    print(\"X_train : \", X_train.size(), 'type :', X_train.type())\n",
    "    print(\"y_train : \", y_train.size(), 'type :', y_train.type())\n",
    "    break\n",
    "    \n",
    "## 32개의 이미지 데이터가 1개의 minibatch로 구성되어 있고, 그림은 28 x 28 로 구성되어 있음\n"
   ]
  },
  {
   "cell_type": "code",
   "execution_count": 6,
   "id": "e7ba100e",
   "metadata": {},
   "outputs": [
    {
     "data": {
      "image/png": "[encoded data removed]",
      "text/plain": [
       "<Figure size 1000x100 with 10 Axes>"
      ]
     },
     "metadata": {},
     "output_type": "display_data"
    }
   ],
   "source": [
    "pltsize = 1\n",
    "plt.figure(figsize = (10 * pltsize, pltsize))\n",
    "\n",
    "for i in range(10):\n",
    "    plt.subplot(1, 10, i+1)\n",
    "    plt.axis(\"off\")\n",
    "    plt.imshow(X_train[i, :, :, :].numpy().reshape(28,28), cmap = 'gray_r')\n",
    "    plt.title(\"class : \" + str(y_train[i].item()))"
   ]
  },
  {
   "cell_type": "code",
   "execution_count": 7,
   "id": "616e1a2d",
   "metadata": {},
   "outputs": [],
   "source": [
    "class Net(nn.Module):\n",
    "    def __init__(self): #내가 사용할 layer 정의\n",
    "        super(Net, self).__init__()\n",
    "        self.fc1 = nn.Linear(28*28, 512)\n",
    "        self.fc2 = nn.Linear(512 , 256)\n",
    "        self.fc3 = nn.Linear(256, 10)\n",
    "    def forward(self, x): # 내가 넣을 데이터는 x로 잡고 모델 구성시작.\n",
    "        x = x.view(-1, 28 * 28)\n",
    "        x = self.fc1(x)\n",
    "        x = F.sigmoid(x)\n",
    "        x = self.fc2(x)\n",
    "        x = F.sigmoid(x)\n",
    "        x = self.fc3(x)\n",
    "        x = F.log_softmax(x, dim = 1)\n",
    "        return x\n",
    "        "
   ]
  },
  {
   "cell_type": "code",
   "execution_count": 8,
   "id": "e2684a5d",
   "metadata": {},
   "outputs": [
    {
     "name": "stdout",
     "output_type": "stream",
     "text": [
      "Net(\n",
      "  (fc1): Linear(in_features=784, out_features=512, bias=True)\n",
      "  (fc2): Linear(in_features=512, out_features=256, bias=True)\n",
      "  (fc3): Linear(in_features=256, out_features=10, bias=True)\n",
      ")\n"
     ]
    }
   ],
   "source": [
    "model = Net().to(DEVICE)\n",
    "#optimizer = torch.optim.SGD(model.parameters(), lr = 0.01, momentum = 0.5)\n",
    "optimizer = torch.optim.Adam(model.parameters(), lr = 0.01)\n",
    "criterion = nn.CrossEntropyLoss()\n",
    "\n",
    "print(model)"
   ]
  },
  {
   "cell_type": "code",
   "execution_count": 9,
   "id": "cec515f8",
   "metadata": {},
   "outputs": [],
   "source": [
    "def train(model, train_loader ,optimizer, log_interval):\n",
    "    model.train() # train 상태로 규정\n",
    "    for batch_idx, (image, label) in enumerate(train_loader):\n",
    "        image = image.to(DEVICE)\n",
    "        label = label.to(DEVICE)\n",
    "        optimizer.zero_grad()\n",
    "        output = model(image)\n",
    "        loss = criterion(output, label)\n",
    "        loss.backward()\n",
    "        optimizer.step()\n",
    "        \n",
    "        if batch_idx % log_interval == 0:\n",
    "            print(\"Train Epoch : {} [{}/{} ({:.0f}%)] \\t Train Loss : {:.6f}\".format(Epoch, batch_idx * len(image), len(train_loader.dataset),\n",
    "                 100. * batch_idx / len(train_loader), loss.item()))"
   ]
  },
  {
   "cell_type": "code",
   "execution_count": 10,
   "id": "1cae0afa",
   "metadata": {},
   "outputs": [],
   "source": [
    "def evaluate(model, test_loader):\n",
    "    model.eval() # 평가 상태로 규정\n",
    "    test_loss = 0\n",
    "    correct = 0\n",
    "    \n",
    "    with torch.no_grad():\n",
    "        for image, label in test_loader:\n",
    "            image = image.to(DEVICE)\n",
    "            label = label.to(DEVICE)\n",
    "            output = model(image)\n",
    "            test_loss += criterion(output, label).item()\n",
    "            prediction = output.max(1, keepdim = True)[1]\n",
    "            correct += prediction.eq(label.view_as(prediction)).sum().item()\n",
    "            \n",
    "    test_loss /= len(test_loader.dataset)\n",
    "    test_accuracy = 100. * correct / len(test_loader.dataset)\n",
    "    return test_loss, test_accuracy\n",
    "    "
   ]
  },
  {
   "cell_type": "code",
   "execution_count": 11,
   "id": "c96fb679",
   "metadata": {
    "scrolled": true
   },
   "outputs": [
    {
     "name": "stderr",
     "output_type": "stream",
     "text": [
      "C:\\Users\\cksgh\\anaconda3\\envs\\NLP\\lib\\site-packages\\torch\\nn\\functional.py:1967: UserWarning: nn.functional.sigmoid is deprecated. Use torch.sigmoid instead.\n",
      "  warnings.warn(\"nn.functional.sigmoid is deprecated. Use torch.sigmoid instead.\")\n"
     ]
    },
    {
     "name": "stdout",
     "output_type": "stream",
     "text": [
      "Train Epoch : 1 [0/60000 (0%)] \t Train Loss : 2.358081\n",
      "Train Epoch : 1 [6400/60000 (11%)] \t Train Loss : 0.206111\n",
      "Train Epoch : 1 [12800/60000 (21%)] \t Train Loss : 0.095862\n",
      "Train Epoch : 1 [19200/60000 (32%)] \t Train Loss : 0.362564\n",
      "Train Epoch : 1 [25600/60000 (43%)] \t Train Loss : 0.238873\n",
      "Train Epoch : 1 [32000/60000 (53%)] \t Train Loss : 0.026411\n",
      "Train Epoch : 1 [38400/60000 (64%)] \t Train Loss : 0.079186\n",
      "Train Epoch : 1 [44800/60000 (75%)] \t Train Loss : 0.108918\n",
      "Train Epoch : 1 [51200/60000 (85%)] \t Train Loss : 0.125907\n",
      "Train Epoch : 1 [57600/60000 (96%)] \t Train Loss : 0.192533\n",
      "\n",
      " [EPOCH: 1], \t Test Loss : 0.0040, \t Test Accuracy : 96.01 %\n",
      "\n",
      "Train Epoch : 2 [0/60000 (0%)] \t Train Loss : 0.120364\n",
      "Train Epoch : 2 [6400/60000 (11%)] \t Train Loss : 0.094765\n",
      "Train Epoch : 2 [12800/60000 (21%)] \t Train Loss : 0.192999\n",
      "Train Epoch : 2 [19200/60000 (32%)] \t Train Loss : 0.048573\n",
      "Train Epoch : 2 [25600/60000 (43%)] \t Train Loss : 0.039652\n",
      "Train Epoch : 2 [32000/60000 (53%)] \t Train Loss : 0.124312\n",
      "Train Epoch : 2 [38400/60000 (64%)] \t Train Loss : 0.446510\n",
      "Train Epoch : 2 [44800/60000 (75%)] \t Train Loss : 0.034292\n",
      "Train Epoch : 2 [51200/60000 (85%)] \t Train Loss : 0.304574\n",
      "Train Epoch : 2 [57600/60000 (96%)] \t Train Loss : 0.284915\n",
      "\n",
      " [EPOCH: 2], \t Test Loss : 0.0035, \t Test Accuracy : 96.55 %\n",
      "\n",
      "Train Epoch : 3 [0/60000 (0%)] \t Train Loss : 0.060946\n",
      "Train Epoch : 3 [6400/60000 (11%)] \t Train Loss : 0.156703\n",
      "Train Epoch : 3 [12800/60000 (21%)] \t Train Loss : 0.093931\n",
      "Train Epoch : 3 [19200/60000 (32%)] \t Train Loss : 0.031358\n",
      "Train Epoch : 3 [25600/60000 (43%)] \t Train Loss : 0.060134\n",
      "Train Epoch : 3 [32000/60000 (53%)] \t Train Loss : 0.042284\n",
      "Train Epoch : 3 [38400/60000 (64%)] \t Train Loss : 0.025900\n",
      "Train Epoch : 3 [44800/60000 (75%)] \t Train Loss : 0.120288\n",
      "Train Epoch : 3 [51200/60000 (85%)] \t Train Loss : 0.082969\n",
      "Train Epoch : 3 [57600/60000 (96%)] \t Train Loss : 0.010848\n",
      "\n",
      " [EPOCH: 3], \t Test Loss : 0.0038, \t Test Accuracy : 96.24 %\n",
      "\n",
      "Train Epoch : 4 [0/60000 (0%)] \t Train Loss : 0.047458\n",
      "Train Epoch : 4 [6400/60000 (11%)] \t Train Loss : 0.077249\n",
      "Train Epoch : 4 [12800/60000 (21%)] \t Train Loss : 0.005480\n",
      "Train Epoch : 4 [19200/60000 (32%)] \t Train Loss : 0.258875\n",
      "Train Epoch : 4 [25600/60000 (43%)] \t Train Loss : 0.143699\n",
      "Train Epoch : 4 [32000/60000 (53%)] \t Train Loss : 0.014273\n",
      "Train Epoch : 4 [38400/60000 (64%)] \t Train Loss : 0.053076\n",
      "Train Epoch : 4 [44800/60000 (75%)] \t Train Loss : 0.364328\n",
      "Train Epoch : 4 [51200/60000 (85%)] \t Train Loss : 0.102601\n",
      "Train Epoch : 4 [57600/60000 (96%)] \t Train Loss : 0.026414\n",
      "\n",
      " [EPOCH: 4], \t Test Loss : 0.0042, \t Test Accuracy : 96.17 %\n",
      "\n",
      "Train Epoch : 5 [0/60000 (0%)] \t Train Loss : 0.189193\n",
      "Train Epoch : 5 [6400/60000 (11%)] \t Train Loss : 0.031766\n",
      "Train Epoch : 5 [12800/60000 (21%)] \t Train Loss : 0.019339\n",
      "Train Epoch : 5 [19200/60000 (32%)] \t Train Loss : 0.003074\n",
      "Train Epoch : 5 [25600/60000 (43%)] \t Train Loss : 0.022435\n",
      "Train Epoch : 5 [32000/60000 (53%)] \t Train Loss : 0.131569\n",
      "Train Epoch : 5 [38400/60000 (64%)] \t Train Loss : 0.041894\n",
      "Train Epoch : 5 [44800/60000 (75%)] \t Train Loss : 0.098854\n",
      "Train Epoch : 5 [51200/60000 (85%)] \t Train Loss : 0.096998\n",
      "Train Epoch : 5 [57600/60000 (96%)] \t Train Loss : 0.036706\n",
      "\n",
      " [EPOCH: 5], \t Test Loss : 0.0033, \t Test Accuracy : 96.77 %\n",
      "\n",
      "Train Epoch : 6 [0/60000 (0%)] \t Train Loss : 0.091892\n",
      "Train Epoch : 6 [6400/60000 (11%)] \t Train Loss : 0.179909\n",
      "Train Epoch : 6 [12800/60000 (21%)] \t Train Loss : 0.036242\n",
      "Train Epoch : 6 [19200/60000 (32%)] \t Train Loss : 0.050860\n",
      "Train Epoch : 6 [25600/60000 (43%)] \t Train Loss : 0.068535\n",
      "Train Epoch : 6 [32000/60000 (53%)] \t Train Loss : 0.029231\n",
      "Train Epoch : 6 [38400/60000 (64%)] \t Train Loss : 0.072310\n",
      "Train Epoch : 6 [44800/60000 (75%)] \t Train Loss : 0.014489\n",
      "Train Epoch : 6 [51200/60000 (85%)] \t Train Loss : 0.017138\n",
      "Train Epoch : 6 [57600/60000 (96%)] \t Train Loss : 0.030949\n",
      "\n",
      " [EPOCH: 6], \t Test Loss : 0.0039, \t Test Accuracy : 96.33 %\n",
      "\n",
      "Train Epoch : 7 [0/60000 (0%)] \t Train Loss : 0.062436\n",
      "Train Epoch : 7 [6400/60000 (11%)] \t Train Loss : 0.010581\n",
      "Train Epoch : 7 [12800/60000 (21%)] \t Train Loss : 0.138683\n",
      "Train Epoch : 7 [19200/60000 (32%)] \t Train Loss : 0.077983\n",
      "Train Epoch : 7 [25600/60000 (43%)] \t Train Loss : 0.277003\n",
      "Train Epoch : 7 [32000/60000 (53%)] \t Train Loss : 0.051685\n",
      "Train Epoch : 7 [38400/60000 (64%)] \t Train Loss : 0.064517\n",
      "Train Epoch : 7 [44800/60000 (75%)] \t Train Loss : 0.130999\n",
      "Train Epoch : 7 [51200/60000 (85%)] \t Train Loss : 0.306410\n",
      "Train Epoch : 7 [57600/60000 (96%)] \t Train Loss : 0.002060\n",
      "\n",
      " [EPOCH: 7], \t Test Loss : 0.0045, \t Test Accuracy : 95.90 %\n",
      "\n",
      "Train Epoch : 8 [0/60000 (0%)] \t Train Loss : 0.026629\n",
      "Train Epoch : 8 [6400/60000 (11%)] \t Train Loss : 0.054541\n",
      "Train Epoch : 8 [12800/60000 (21%)] \t Train Loss : 0.026120\n",
      "Train Epoch : 8 [19200/60000 (32%)] \t Train Loss : 0.205717\n",
      "Train Epoch : 8 [25600/60000 (43%)] \t Train Loss : 0.023071\n",
      "Train Epoch : 8 [32000/60000 (53%)] \t Train Loss : 0.095470\n",
      "Train Epoch : 8 [38400/60000 (64%)] \t Train Loss : 0.157555\n",
      "Train Epoch : 8 [44800/60000 (75%)] \t Train Loss : 0.028933\n",
      "Train Epoch : 8 [51200/60000 (85%)] \t Train Loss : 0.159882\n",
      "Train Epoch : 8 [57600/60000 (96%)] \t Train Loss : 0.027284\n",
      "\n",
      " [EPOCH: 8], \t Test Loss : 0.0042, \t Test Accuracy : 96.64 %\n",
      "\n",
      "Train Epoch : 9 [0/60000 (0%)] \t Train Loss : 0.109213\n",
      "Train Epoch : 9 [6400/60000 (11%)] \t Train Loss : 0.096015\n",
      "Train Epoch : 9 [12800/60000 (21%)] \t Train Loss : 0.014618\n",
      "Train Epoch : 9 [19200/60000 (32%)] \t Train Loss : 0.006913\n",
      "Train Epoch : 9 [25600/60000 (43%)] \t Train Loss : 0.153676\n",
      "Train Epoch : 9 [32000/60000 (53%)] \t Train Loss : 0.044673\n",
      "Train Epoch : 9 [38400/60000 (64%)] \t Train Loss : 0.018256\n",
      "Train Epoch : 9 [44800/60000 (75%)] \t Train Loss : 0.098148\n",
      "Train Epoch : 9 [51200/60000 (85%)] \t Train Loss : 0.017692\n",
      "Train Epoch : 9 [57600/60000 (96%)] \t Train Loss : 0.175894\n",
      "\n",
      " [EPOCH: 9], \t Test Loss : 0.0042, \t Test Accuracy : 96.42 %\n",
      "\n",
      "Train Epoch : 10 [0/60000 (0%)] \t Train Loss : 0.057291\n",
      "Train Epoch : 10 [6400/60000 (11%)] \t Train Loss : 0.101114\n",
      "Train Epoch : 10 [12800/60000 (21%)] \t Train Loss : 0.040070\n",
      "Train Epoch : 10 [19200/60000 (32%)] \t Train Loss : 0.003935\n",
      "Train Epoch : 10 [25600/60000 (43%)] \t Train Loss : 0.028441\n",
      "Train Epoch : 10 [32000/60000 (53%)] \t Train Loss : 0.120553\n",
      "Train Epoch : 10 [38400/60000 (64%)] \t Train Loss : 0.003849\n",
      "Train Epoch : 10 [44800/60000 (75%)] \t Train Loss : 0.010129\n",
      "Train Epoch : 10 [51200/60000 (85%)] \t Train Loss : 0.103468\n",
      "Train Epoch : 10 [57600/60000 (96%)] \t Train Loss : 0.002145\n",
      "\n",
      " [EPOCH: 10], \t Test Loss : 0.0037, \t Test Accuracy : 96.62 %\n",
      "\n"
     ]
    }
   ],
   "source": [
    "for Epoch in range(1, EPOCHS + 1):\n",
    "    train(model, train_loader ,optimizer, log_interval = 200)\n",
    "    test_loss, test_accuracy = evaluate(model, test_loader)\n",
    "    print(\"\\n [EPOCH: {}], \\t Test Loss : {:.4f}, \\t Test Accuracy : {:.2f} %\\n\".format(Epoch, test_loss, test_accuracy))"
   ]
  },
  {
   "cell_type": "code",
   "execution_count": null,
   "id": "45c3672f",
   "metadata": {},
   "outputs": [],
   "source": []
  }
 ],
 "metadata": {
  "kernelspec": {
   "display_name": "NLP",
   "language": "python",
   "name": "nlp"
  },
  "language_info": {
   "codemirror_mode": {
    "name": "ipython",
    "version": 3
   },
   "file_extension": ".py",
   "mimetype": "text/x-python",
   "name": "python",
   "nbconvert_exporter": "python",
   "pygments_lexer": "ipython3",
   "version": "3.7.16"
  }
 },
 "nbformat": 4,
 "nbformat_minor": 5
}
