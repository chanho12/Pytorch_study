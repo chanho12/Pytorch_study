{
 "cells": [
  {
   "cell_type": "code",
   "execution_count": 8,
   "id": "a865d814",
   "metadata": {},
   "outputs": [],
   "source": [
    "import numpy as np\n",
    "import matplotlib.pyplot as plt\n",
    "import torch\n",
    "import torch.nn as nn\n",
    "import torch.nn.functional as F\n",
    "from torchvision import transforms, datasets\n",
    "from torch.utils.data import DataLoader"
   ]
  },
  {
   "cell_type": "code",
   "execution_count": 2,
   "id": "5e26d3d1",
   "metadata": {},
   "outputs": [
    {
     "name": "stdout",
     "output_type": "stream",
     "text": [
      "Using PyTorch verison :  1.13.1+cpu Device:  cpu\n"
     ]
    }
   ],
   "source": [
    "if torch.cuda.is_available():\n",
    "    DEVICE = torch.device(\"cuda\")\n",
    "else:\n",
    "    DEVICE = torch.device(\"cpu\")\n",
    "    \n",
    "print(\"Using PyTorch verison : \", torch.__version__, 'Device: ', DEVICE)"
   ]
  },
  {
   "cell_type": "code",
   "execution_count": 3,
   "id": "17404799",
   "metadata": {},
   "outputs": [],
   "source": [
    "BATCH_SIZE = 32\n",
    "EPOCHS = 10"
   ]
  },
  {
   "cell_type": "code",
   "execution_count": 9,
   "id": "216044cb",
   "metadata": {},
   "outputs": [],
   "source": [
    "train_dataset = datasets.MNIST(root = '../data/MNIST', train = True, download = True, transform = transforms.ToTensor())\n",
    "test_dataset = datasets.MNIST(root = '../data/MNIST', train = False, transform = transforms.ToTensor())\n",
    "train_loader = DataLoader(dataset = train_dataset, batch_size = BATCH_SIZE, shuffle = True)\n",
    "test_loader = DataLoader(dataset = test_dataset, batch_size = BATCH_SIZE, shuffle = False)"
   ]
  },
  {
   "cell_type": "code",
   "execution_count": 12,
   "id": "e1e249bd",
   "metadata": {},
   "outputs": [
    {
     "name": "stdout",
     "output_type": "stream",
     "text": [
      "X_train :  torch.Size([32, 1, 28, 28]) type : torch.FloatTensor\n",
      "y_train :  torch.Size([32]) type : torch.LongTensor\n"
     ]
    }
   ],
   "source": [
    "for (X_train, y_train) in train_loader:\n",
    "    print(\"X_train : \", X_train.size(), 'type :', X_train.type())\n",
    "    print(\"y_train : \", y_train.size(), 'type :', y_train.type())\n",
    "    break\n",
    "    \n",
    "## 32개의 이미지 데이터가 1개의 minibatch로 구성되어 있고, 그림은 28 x 28 로 구성되어 있음\n"
   ]
  },
  {
   "cell_type": "code",
   "execution_count": 13,
   "id": "e7ba100e",
   "metadata": {},
   "outputs": [
    {
     "data": {
      "image/png": "[encoded data removed]",
      "text/plain": [
       "<Figure size 1000x100 with 10 Axes>"
      ]
     },
     "metadata": {},
     "output_type": "display_data"
    }
   ],
   "source": [
    "pltsize = 1\n",
    "plt.figure(figsize = (10 * pltsize, pltsize))\n",
    "\n",
    "for i in range(10):\n",
    "    plt.subplot(1, 10, i+1)\n",
    "    plt.axis(\"off\")\n",
    "    plt.imshow(X_train[i, :, :, :].numpy().reshape(28,28), cmap = 'gray_r')\n",
    "    plt.title(\"class : \" + str(y_train[i].item()))"
   ]
  },
  {
   "cell_type": "code",
   "execution_count": 28,
   "id": "616e1a2d",
   "metadata": {},
   "outputs": [],
   "source": [
    "class Net(nn.Module):\n",
    "    def __init__(self): #내가 사용할 layer 정의\n",
    "        super(Net, self).__init__()\n",
    "        self.fc1 = nn.Linear(28*28, 512)\n",
    "        self.fc2 = nn.Linear(512 , 256)\n",
    "        self.fc3 = nn.Linear(256, 10)\n",
    "    def forward(self, x): # 내가 넣을 데이터는 x로 잡고 모델 구성시작.\n",
    "        x = x.view(-1, 28 * 28)\n",
    "        x = self.fc1(x)\n",
    "        x = F.sigmoid(x)\n",
    "        x = self.fc2(x)\n",
    "        x = F.sigmoid(x)\n",
    "        x = self.fc3(x)\n",
    "        x = F.log_softmax(x, dim = 1)\n",
    "        return x\n",
    "        "
   ]
  },
  {
   "cell_type": "code",
   "execution_count": 29,
   "id": "e2684a5d",
   "metadata": {},
   "outputs": [
    {
     "name": "stdout",
     "output_type": "stream",
     "text": [
      "Net(\n",
      "  (fc1): Linear(in_features=784, out_features=512, bias=True)\n",
      "  (fc2): Linear(in_features=512, out_features=256, bias=True)\n",
      "  (fc3): Linear(in_features=256, out_features=10, bias=True)\n",
      ")\n"
     ]
    }
   ],
   "source": [
    "model = Net().to(DEVICE)\n",
    "optimizer = torch.optim.SGD(model.parameters(), lr = 0.01, momentum = 0.5)\n",
    "criterion = nn.CrossEntropyLoss()\n",
    "\n",
    "print(model)"
   ]
  },
  {
   "cell_type": "code",
   "execution_count": 40,
   "id": "cec515f8",
   "metadata": {},
   "outputs": [],
   "source": [
    "def train(model, train_loader ,optimizer, log_interval):\n",
    "    model.train() # train 상태로 규정\n",
    "    for batch_idx, (image, label) in enumerate(train_loader):\n",
    "        image = image.to(DEVICE)\n",
    "        label = label.to(DEVICE)\n",
    "        optimizer.zero_grad()\n",
    "        output = model(image)\n",
    "        loss = criterion(output, label)\n",
    "        loss.backward()\n",
    "        optimizer.step()\n",
    "        \n",
    "        if batch_idx % log_interval == 0:\n",
    "            print(\"Train Epoch : {} [{}/{} ({:.0f}%)] \\t Train Loss : {:.6f}\".format(Epoch, batch_idx * len(image), len(train_loader.dataset),\n",
    "                 100. * batch_idx / len(train_loader), loss.item()))"
   ]
  },
  {
   "cell_type": "code",
   "execution_count": 41,
   "id": "1cae0afa",
   "metadata": {},
   "outputs": [],
   "source": [
    "def evaluate(model, test_loader):\n",
    "    model.eval() # 평가 상태로 규정\n",
    "    test_loss = 0\n",
    "    correct = 0\n",
    "    \n",
    "    with torch.no_grad():\n",
    "        for image, label in test_loader:\n",
    "            image = image.to(DEVICE)\n",
    "            label = label.to(DEVICE)\n",
    "            output = model(image)\n",
    "            test_loss += criterion(output, label).item()\n",
    "            prediction = output.max(1, keepdim = True)[1]\n",
    "            correct += prediction.eq(label.view_as(prediction)).sum().item()\n",
    "            \n",
    "    test_loss /= len(test_loader.dataset)\n",
    "    test_accuracy = 100. * correct / len(test_loader.dataset)\n",
    "    return test_loss, test_accuracy\n",
    "    "
   ]
  },
  {
   "cell_type": "code",
   "execution_count": 42,
   "id": "c96fb679",
   "metadata": {
    "scrolled": true
   },
   "outputs": [
    {
     "name": "stdout",
     "output_type": "stream",
     "text": [
      "Train Epoch : 1 [0/60000 (0%)] \t Train Loss : 1.362693\n",
      "Train Epoch : 1 [6400/60000 (11%)] \t Train Loss : 1.288921\n",
      "Train Epoch : 1 [12800/60000 (21%)] \t Train Loss : 1.014902\n",
      "Train Epoch : 1 [19200/60000 (32%)] \t Train Loss : 0.874223\n",
      "Train Epoch : 1 [25600/60000 (43%)] \t Train Loss : 0.804651\n",
      "Train Epoch : 1 [32000/60000 (53%)] \t Train Loss : 0.774305\n",
      "Train Epoch : 1 [38400/60000 (64%)] \t Train Loss : 0.800827\n",
      "Train Epoch : 1 [44800/60000 (75%)] \t Train Loss : 0.771009\n",
      "Train Epoch : 1 [51200/60000 (85%)] \t Train Loss : 0.893450\n",
      "Train Epoch : 1 [57600/60000 (96%)] \t Train Loss : 0.944770\n",
      "\n",
      " [EPOCH: 1], \t Test Loss : 0.0230, \t Test Accuracy : 78.38 %\n",
      "\n",
      "Train Epoch : 2 [0/60000 (0%)] \t Train Loss : 0.736143\n",
      "Train Epoch : 2 [6400/60000 (11%)] \t Train Loss : 0.681881\n",
      "Train Epoch : 2 [12800/60000 (21%)] \t Train Loss : 0.678837\n",
      "Train Epoch : 2 [19200/60000 (32%)] \t Train Loss : 0.719206\n",
      "Train Epoch : 2 [25600/60000 (43%)] \t Train Loss : 0.601011\n",
      "Train Epoch : 2 [32000/60000 (53%)] \t Train Loss : 0.609877\n",
      "Train Epoch : 2 [38400/60000 (64%)] \t Train Loss : 0.555624\n",
      "Train Epoch : 2 [44800/60000 (75%)] \t Train Loss : 0.592977\n",
      "Train Epoch : 2 [51200/60000 (85%)] \t Train Loss : 0.366868\n",
      "Train Epoch : 2 [57600/60000 (96%)] \t Train Loss : 0.391720\n",
      "\n",
      " [EPOCH: 2], \t Test Loss : 0.0170, \t Test Accuracy : 84.30 %\n",
      "\n",
      "Train Epoch : 3 [0/60000 (0%)] \t Train Loss : 0.596622\n",
      "Train Epoch : 3 [6400/60000 (11%)] \t Train Loss : 0.525605\n",
      "Train Epoch : 3 [12800/60000 (21%)] \t Train Loss : 0.462596\n",
      "Train Epoch : 3 [19200/60000 (32%)] \t Train Loss : 0.608454\n",
      "Train Epoch : 3 [25600/60000 (43%)] \t Train Loss : 0.441677\n",
      "Train Epoch : 3 [32000/60000 (53%)] \t Train Loss : 0.638030\n",
      "Train Epoch : 3 [38400/60000 (64%)] \t Train Loss : 0.599860\n",
      "Train Epoch : 3 [44800/60000 (75%)] \t Train Loss : 0.230109\n",
      "Train Epoch : 3 [51200/60000 (85%)] \t Train Loss : 0.620824\n",
      "Train Epoch : 3 [57600/60000 (96%)] \t Train Loss : 0.474942\n",
      "\n",
      " [EPOCH: 3], \t Test Loss : 0.0143, \t Test Accuracy : 86.47 %\n",
      "\n",
      "Train Epoch : 4 [0/60000 (0%)] \t Train Loss : 0.681887\n",
      "Train Epoch : 4 [6400/60000 (11%)] \t Train Loss : 0.171778\n",
      "Train Epoch : 4 [12800/60000 (21%)] \t Train Loss : 0.233824\n",
      "Train Epoch : 4 [19200/60000 (32%)] \t Train Loss : 0.547453\n",
      "Train Epoch : 4 [25600/60000 (43%)] \t Train Loss : 0.457983\n",
      "Train Epoch : 4 [32000/60000 (53%)] \t Train Loss : 0.573868\n",
      "Train Epoch : 4 [38400/60000 (64%)] \t Train Loss : 0.316229\n",
      "Train Epoch : 4 [44800/60000 (75%)] \t Train Loss : 0.271146\n",
      "Train Epoch : 4 [51200/60000 (85%)] \t Train Loss : 0.487900\n",
      "Train Epoch : 4 [57600/60000 (96%)] \t Train Loss : 0.348100\n",
      "\n",
      " [EPOCH: 4], \t Test Loss : 0.0128, \t Test Accuracy : 88.26 %\n",
      "\n",
      "Train Epoch : 5 [0/60000 (0%)] \t Train Loss : 0.574667\n",
      "Train Epoch : 5 [6400/60000 (11%)] \t Train Loss : 0.533803\n",
      "Train Epoch : 5 [12800/60000 (21%)] \t Train Loss : 0.349523\n",
      "Train Epoch : 5 [19200/60000 (32%)] \t Train Loss : 0.357016\n",
      "Train Epoch : 5 [25600/60000 (43%)] \t Train Loss : 0.394105\n",
      "Train Epoch : 5 [32000/60000 (53%)] \t Train Loss : 0.285290\n",
      "Train Epoch : 5 [38400/60000 (64%)] \t Train Loss : 0.446402\n",
      "Train Epoch : 5 [44800/60000 (75%)] \t Train Loss : 0.234652\n",
      "Train Epoch : 5 [51200/60000 (85%)] \t Train Loss : 0.230254\n",
      "Train Epoch : 5 [57600/60000 (96%)] \t Train Loss : 0.283270\n",
      "\n",
      " [EPOCH: 5], \t Test Loss : 0.0120, \t Test Accuracy : 89.09 %\n",
      "\n",
      "Train Epoch : 6 [0/60000 (0%)] \t Train Loss : 0.169817\n",
      "Train Epoch : 6 [6400/60000 (11%)] \t Train Loss : 0.122580\n",
      "Train Epoch : 6 [12800/60000 (21%)] \t Train Loss : 0.159747\n",
      "Train Epoch : 6 [19200/60000 (32%)] \t Train Loss : 0.532512\n",
      "Train Epoch : 6 [25600/60000 (43%)] \t Train Loss : 0.274571\n",
      "Train Epoch : 6 [32000/60000 (53%)] \t Train Loss : 0.262946\n",
      "Train Epoch : 6 [38400/60000 (64%)] \t Train Loss : 0.239350\n",
      "Train Epoch : 6 [44800/60000 (75%)] \t Train Loss : 0.463806\n",
      "Train Epoch : 6 [51200/60000 (85%)] \t Train Loss : 0.341804\n",
      "Train Epoch : 6 [57600/60000 (96%)] \t Train Loss : 0.292349\n",
      "\n",
      " [EPOCH: 6], \t Test Loss : 0.0112, \t Test Accuracy : 89.57 %\n",
      "\n",
      "Train Epoch : 7 [0/60000 (0%)] \t Train Loss : 0.333452\n",
      "Train Epoch : 7 [6400/60000 (11%)] \t Train Loss : 0.355561\n",
      "Train Epoch : 7 [12800/60000 (21%)] \t Train Loss : 0.244425\n",
      "Train Epoch : 7 [19200/60000 (32%)] \t Train Loss : 0.528791\n",
      "Train Epoch : 7 [25600/60000 (43%)] \t Train Loss : 0.246159\n",
      "Train Epoch : 7 [32000/60000 (53%)] \t Train Loss : 0.289629\n",
      "Train Epoch : 7 [38400/60000 (64%)] \t Train Loss : 0.446149\n",
      "Train Epoch : 7 [44800/60000 (75%)] \t Train Loss : 0.274497\n",
      "Train Epoch : 7 [51200/60000 (85%)] \t Train Loss : 0.513651\n",
      "Train Epoch : 7 [57600/60000 (96%)] \t Train Loss : 0.235647\n",
      "\n",
      " [EPOCH: 7], \t Test Loss : 0.0107, \t Test Accuracy : 89.99 %\n",
      "\n",
      "Train Epoch : 8 [0/60000 (0%)] \t Train Loss : 0.482340\n",
      "Train Epoch : 8 [6400/60000 (11%)] \t Train Loss : 0.360853\n",
      "Train Epoch : 8 [12800/60000 (21%)] \t Train Loss : 0.297520\n",
      "Train Epoch : 8 [19200/60000 (32%)] \t Train Loss : 0.115939\n",
      "Train Epoch : 8 [25600/60000 (43%)] \t Train Loss : 0.322867\n",
      "Train Epoch : 8 [32000/60000 (53%)] \t Train Loss : 0.597805\n",
      "Train Epoch : 8 [38400/60000 (64%)] \t Train Loss : 0.252293\n",
      "Train Epoch : 8 [44800/60000 (75%)] \t Train Loss : 0.196350\n",
      "Train Epoch : 8 [51200/60000 (85%)] \t Train Loss : 0.480791\n",
      "Train Epoch : 8 [57600/60000 (96%)] \t Train Loss : 0.186773\n",
      "\n",
      " [EPOCH: 8], \t Test Loss : 0.0105, \t Test Accuracy : 90.34 %\n",
      "\n",
      "Train Epoch : 9 [0/60000 (0%)] \t Train Loss : 0.369274\n",
      "Train Epoch : 9 [6400/60000 (11%)] \t Train Loss : 0.144098\n",
      "Train Epoch : 9 [12800/60000 (21%)] \t Train Loss : 0.398132\n",
      "Train Epoch : 9 [19200/60000 (32%)] \t Train Loss : 0.482484\n",
      "Train Epoch : 9 [25600/60000 (43%)] \t Train Loss : 0.504805\n",
      "Train Epoch : 9 [32000/60000 (53%)] \t Train Loss : 0.198790\n",
      "Train Epoch : 9 [38400/60000 (64%)] \t Train Loss : 0.346597\n",
      "Train Epoch : 9 [44800/60000 (75%)] \t Train Loss : 0.266145\n",
      "Train Epoch : 9 [51200/60000 (85%)] \t Train Loss : 0.277260\n",
      "Train Epoch : 9 [57600/60000 (96%)] \t Train Loss : 0.215380\n",
      "\n",
      " [EPOCH: 9], \t Test Loss : 0.0102, \t Test Accuracy : 90.70 %\n",
      "\n",
      "Train Epoch : 10 [0/60000 (0%)] \t Train Loss : 0.396386\n",
      "Train Epoch : 10 [6400/60000 (11%)] \t Train Loss : 0.266161\n",
      "Train Epoch : 10 [12800/60000 (21%)] \t Train Loss : 0.309707\n",
      "Train Epoch : 10 [19200/60000 (32%)] \t Train Loss : 0.296180\n",
      "Train Epoch : 10 [25600/60000 (43%)] \t Train Loss : 0.164547\n",
      "Train Epoch : 10 [32000/60000 (53%)] \t Train Loss : 0.180236\n",
      "Train Epoch : 10 [38400/60000 (64%)] \t Train Loss : 0.470572\n",
      "Train Epoch : 10 [44800/60000 (75%)] \t Train Loss : 0.521505\n",
      "Train Epoch : 10 [51200/60000 (85%)] \t Train Loss : 0.281376\n",
      "Train Epoch : 10 [57600/60000 (96%)] \t Train Loss : 0.132854\n",
      "\n",
      " [EPOCH: 10], \t Test Loss : 0.0101, \t Test Accuracy : 90.82 %\n",
      "\n"
     ]
    }
   ],
   "source": [
    "for Epoch in range(1, EPOCHS + 1):\n",
    "    train(model, train_loader ,optimizer, log_interval = 200)\n",
    "    test_loss, test_accuracy = evaluate(model, test_loader)\n",
    "    print(\"\\n [EPOCH: {}], \\t Test Loss : {:.4f}, \\t Test Accuracy : {:.2f} %\\n\".format(Epoch, test_loss, test_accuracy))"
   ]
  },
  {
   "cell_type": "code",
   "execution_count": null,
   "id": "45c3672f",
   "metadata": {},
   "outputs": [],
   "source": []
  }
 ],
 "metadata": {
  "kernelspec": {
   "display_name": "NLP",
   "language": "python",
   "name": "nlp"
  },
  "language_info": {
   "codemirror_mode": {
    "name": "ipython",
    "version": 3
   },
   "file_extension": ".py",
   "mimetype": "text/x-python",
   "name": "python",
   "nbconvert_exporter": "python",
   "pygments_lexer": "ipython3",
   "version": "3.7.16"
  }
 },
 "nbformat": 4,
 "nbformat_minor": 5
}
