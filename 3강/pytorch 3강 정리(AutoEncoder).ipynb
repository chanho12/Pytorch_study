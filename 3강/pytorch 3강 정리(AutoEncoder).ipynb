{
 "cells": [
  {
   "cell_type": "code",
   "execution_count": 4,
   "id": "b46cbdea",
   "metadata": {},
   "outputs": [],
   "source": [
    "import numpy as np\n",
    "import matplotlib.pyplot as plt\n",
    "\n",
    "import torch\n",
    "import torch.nn as nn\n",
    "import torch.nn.functional as F\n",
    "from torch.utils.data import DataLoader\n",
    "from torchvision import transforms, datasets"
   ]
  },
  {
   "cell_type": "code",
   "execution_count": 3,
   "id": "bedbe898",
   "metadata": {},
   "outputs": [
    {
     "name": "stdout",
     "output_type": "stream",
     "text": [
      "Using PyTorch version : 1.13.1+cpu Device: cpu\n"
     ]
    }
   ],
   "source": [
    "if torch.cuda.is_available():\n",
    "    DEVICE = torch.device('cuda')\n",
    "else:\n",
    "    DEVICE = torch.device(\"cpu\")\n",
    "print(\"Using PyTorch version :\", torch.__version__, 'Device:', DEVICE)"
   ]
  },
  {
   "cell_type": "code",
   "execution_count": 15,
   "id": "9dff90d2",
   "metadata": {},
   "outputs": [],
   "source": [
    "BATCH_SIZE = 10\n",
    "EPOCHS = 10"
   ]
  },
  {
   "cell_type": "code",
   "execution_count": 6,
   "id": "c096c476",
   "metadata": {},
   "outputs": [
    {
     "name": "stdout",
     "output_type": "stream",
     "text": [
      "Downloading http://fashion-mnist.s3-website.eu-central-1.amazonaws.com/train-images-idx3-ubyte.gz\n",
      "Downloading http://fashion-mnist.s3-website.eu-central-1.amazonaws.com/train-images-idx3-ubyte.gz to ../data/FashionMNIST\\FashionMNIST\\raw\\train-images-idx3-ubyte.gz\n"
     ]
    },
    {
     "data": {
      "application/vnd.jupyter.widget-view+json": {
       "model_id": "0f564dcd6bcb4c2eb2b7f9439c647e8f",
       "version_major": 2,
       "version_minor": 0
      },
      "text/plain": [
       "  0%|          | 0/26421880 [00:00<?, ?it/s]"
      ]
     },
     "metadata": {},
     "output_type": "display_data"
    },
    {
     "name": "stdout",
     "output_type": "stream",
     "text": [
      "Extracting ../data/FashionMNIST\\FashionMNIST\\raw\\train-images-idx3-ubyte.gz to ../data/FashionMNIST\\FashionMNIST\\raw\n",
      "\n",
      "Downloading http://fashion-mnist.s3-website.eu-central-1.amazonaws.com/train-labels-idx1-ubyte.gz\n",
      "Downloading http://fashion-mnist.s3-website.eu-central-1.amazonaws.com/train-labels-idx1-ubyte.gz to ../data/FashionMNIST\\FashionMNIST\\raw\\train-labels-idx1-ubyte.gz\n"
     ]
    },
    {
     "data": {
      "application/vnd.jupyter.widget-view+json": {
       "model_id": "dd7cb7a0a9a1470484c2a23c77ea0950",
       "version_major": 2,
       "version_minor": 0
      },
      "text/plain": [
       "  0%|          | 0/29515 [00:00<?, ?it/s]"
      ]
     },
     "metadata": {},
     "output_type": "display_data"
    },
    {
     "name": "stdout",
     "output_type": "stream",
     "text": [
      "Extracting ../data/FashionMNIST\\FashionMNIST\\raw\\train-labels-idx1-ubyte.gz to ../data/FashionMNIST\\FashionMNIST\\raw\n",
      "\n",
      "Downloading http://fashion-mnist.s3-website.eu-central-1.amazonaws.com/t10k-images-idx3-ubyte.gz\n",
      "Downloading http://fashion-mnist.s3-website.eu-central-1.amazonaws.com/t10k-images-idx3-ubyte.gz to ../data/FashionMNIST\\FashionMNIST\\raw\\t10k-images-idx3-ubyte.gz\n"
     ]
    },
    {
     "data": {
      "application/vnd.jupyter.widget-view+json": {
       "model_id": "ac8268cd88b149e0a143f955d9e95cff",
       "version_major": 2,
       "version_minor": 0
      },
      "text/plain": [
       "  0%|          | 0/4422102 [00:00<?, ?it/s]"
      ]
     },
     "metadata": {},
     "output_type": "display_data"
    },
    {
     "name": "stdout",
     "output_type": "stream",
     "text": [
      "Extracting ../data/FashionMNIST\\FashionMNIST\\raw\\t10k-images-idx3-ubyte.gz to ../data/FashionMNIST\\FashionMNIST\\raw\n",
      "\n",
      "Downloading http://fashion-mnist.s3-website.eu-central-1.amazonaws.com/t10k-labels-idx1-ubyte.gz\n",
      "Downloading http://fashion-mnist.s3-website.eu-central-1.amazonaws.com/t10k-labels-idx1-ubyte.gz to ../data/FashionMNIST\\FashionMNIST\\raw\\t10k-labels-idx1-ubyte.gz\n"
     ]
    },
    {
     "data": {
      "application/vnd.jupyter.widget-view+json": {
       "model_id": "c5c4f0b1b0fb4e1a941f87fdf773958d",
       "version_major": 2,
       "version_minor": 0
      },
      "text/plain": [
       "  0%|          | 0/5148 [00:00<?, ?it/s]"
      ]
     },
     "metadata": {},
     "output_type": "display_data"
    },
    {
     "name": "stdout",
     "output_type": "stream",
     "text": [
      "Extracting ../data/FashionMNIST\\FashionMNIST\\raw\\t10k-labels-idx1-ubyte.gz to ../data/FashionMNIST\\FashionMNIST\\raw\n",
      "\n"
     ]
    }
   ],
   "source": [
    "train_dataset = datasets.FashionMNIST(root = '../data/FashionMNIST', train = True, download = True, transform = transforms.ToTensor())\n",
    "test_dataset = datasets.FashionMNIST(root = '../data/FashionMNIST', train = False, transform = transforms.ToTensor())\n",
    "train_loader = DataLoader(dataset = train_dataset, batch_size = BATCH_SIZE, shuffle = True)\n",
    "test_loader = DataLoader(dataset = test_dataset, batch_size = BATCH_SIZE, shuffle = False)"
   ]
  },
  {
   "cell_type": "code",
   "execution_count": 7,
   "id": "a504d2f2",
   "metadata": {},
   "outputs": [
    {
     "name": "stdout",
     "output_type": "stream",
     "text": [
      "X_train: torch.Size([10, 1, 28, 28]) type:  torch.FloatTensor\n",
      "y_train: torch.Size([10]) type:  torch.LongTensor\n"
     ]
    }
   ],
   "source": [
    "for (X_train, y_train) in train_loader:\n",
    "    print(\"X_train:\", X_train.size(), 'type: ', X_train.type())\n",
    "    print(\"y_train:\", y_train.size(), 'type: ', y_train.type())\n",
    "    break\n"
   ]
  },
  {
   "cell_type": "code",
   "execution_count": 8,
   "id": "97c080cb",
   "metadata": {},
   "outputs": [],
   "source": [
    "class AE(nn.Module):\n",
    "    def __init__(self):\n",
    "        super(AE, self).__init__()\n",
    "        \n",
    "        self.encoder = nn.Sequential(nn.Linear(28 * 28, 512),\n",
    "                                    nn.ReLU(),\n",
    "                                    nn.Linear(512, 256),\n",
    "                                    nn.ReLU(),\n",
    "                                    nn.Linear(256, 32))\n",
    "        self.decoder = nn.Sequential(nn.Linear(32, 256),\n",
    "                                    nn.ReLU(),\n",
    "                                    nn.Linear(256, 512),\n",
    "                                    nn.ReLU(),\n",
    "                                    nn.Linear(512, 28 * 28))\n",
    "        \n",
    "    def forward(self, x):\n",
    "        encoded = self.encoder(x)\n",
    "        decoded = self.decoder(encoded)\n",
    "        return encoded, decoded"
   ]
  },
  {
   "cell_type": "code",
   "execution_count": 9,
   "id": "6d2d73a8",
   "metadata": {},
   "outputs": [
    {
     "name": "stdout",
     "output_type": "stream",
     "text": [
      "AE(\n",
      "  (encoder): Sequential(\n",
      "    (0): Linear(in_features=784, out_features=512, bias=True)\n",
      "    (1): ReLU()\n",
      "    (2): Linear(in_features=512, out_features=256, bias=True)\n",
      "    (3): ReLU()\n",
      "    (4): Linear(in_features=256, out_features=32, bias=True)\n",
      "  )\n",
      "  (decoder): Sequential(\n",
      "    (0): Linear(in_features=32, out_features=256, bias=True)\n",
      "    (1): ReLU()\n",
      "    (2): Linear(in_features=256, out_features=512, bias=True)\n",
      "    (3): ReLU()\n",
      "    (4): Linear(in_features=512, out_features=784, bias=True)\n",
      "  )\n",
      ")\n"
     ]
    }
   ],
   "source": [
    "model = AE().to(DEVICE)\n",
    "optimizer = torch.optim.Adam(model.parameters(), lr = 0.01)\n",
    "criterion = nn.MSELoss()\n",
    "\n",
    "print(model)"
   ]
  },
  {
   "cell_type": "code",
   "execution_count": 17,
   "id": "c5f314a4",
   "metadata": {},
   "outputs": [],
   "source": [
    "def train(model, train_loader, optimizer, log_interval):\n",
    "    model.train()\n",
    "    for batch_idx, (image, _) in enumerate(train_loader):\n",
    "        image = image.view(-1, 28*28).to(DEVICE)\n",
    "        target = image.view(-1, 28*28).to(DEVICE)\n",
    "        optimizer.zero_grad()\n",
    "        encoded, decoded = model(image)\n",
    "        loss = criterion(decoded, target)\n",
    "        loss.backward()\n",
    "        optimizer.step()\n",
    "        \n",
    "        if batch_idx % log_interval == 0:\n",
    "            print(\"Train Epoch : {} [{}/{} ({:.0f}%)] ]t Train Loss: {:.6f}\".format(Epoch, batch_idx * len(image), len(train_loader.dataset), \n",
    "                                                                                   100 * batch_idx / len(train_loader), loss.item()))"
   ]
  },
  {
   "cell_type": "code",
   "execution_count": 18,
   "id": "6f8357a7",
   "metadata": {},
   "outputs": [],
   "source": [
    "def evaluate(model, test_loader):\n",
    "    model.eval()\n",
    "    test_loss = 0\n",
    "    real_image = []\n",
    "    gen_image = []\n",
    "    with torch.no_grad():\n",
    "        for image,_ in test_loader:\n",
    "            image = image.view(-1, 28* 28).to(DEVICE)\n",
    "            target = image.view(-1, 28*28).to(DEVICE)\n",
    "            encoded, decoded = model(image)\n",
    "            \n",
    "            test_loss += criterion(decoded, image).item()\n",
    "            real_image.append(image.to(\"cpu\"))\n",
    "            gen_image.append(decoded.to(\"cpu\"))\n",
    "            \n",
    "    test_loss /= len(test_loader.dataset)\n",
    "    return test_loss, real_image, gen_image"
   ]
  },
  {
   "cell_type": "code",
   "execution_count": null,
   "id": "03f95eb4",
   "metadata": {},
   "outputs": [
    {
     "name": "stdout",
     "output_type": "stream",
     "text": [
      "Train Epoch : 1 [0/60000 (0%)] ]t Train Loss: 0.035946\n"
     ]
    }
   ],
   "source": [
    "for Epoch in range(1, EPOCHS + 1):\n",
    "    train(model, train_loader, optimizer, log_interval = 200)\n",
    "    test_loss, real_image, gen_image = evaluate(model, test_loader)\n",
    "    print(\"\\n[EPOCH: {}], \\tTest LOSS : {:.4f}\".format(Epoch, test_loss))\n",
    "    f, a = plt.subplots(2, 10, figsize = (10,4))\n",
    "    for i in range(10):\n",
    "        img = np.reshape(real_image[0][i], (28,28))\n",
    "        a[0][i].imshow(img, cmap = 'gray_r')\n",
    "        a[0][i].set_xtics(())\n",
    "        a[0][i].set_ytics(())\n",
    "        \n",
    "    for i in range(10):\n",
    "        img = np.reshape(gen_image[0][i], (28,28))\n",
    "        a[1][i].imshow(img, cmap = 'gray_r')\n",
    "        a[1][i].set_xticks(())\n",
    "        a[1][i].set_yticks(())\n",
    "        \n",
    "    plt.show()"
   ]
  },
  {
   "cell_type": "code",
   "execution_count": null,
   "id": "9ea1db3b",
   "metadata": {},
   "outputs": [],
   "source": []
  }
 ],
 "metadata": {
  "kernelspec": {
   "display_name": "NLP",
   "language": "python",
   "name": "nlp"
  },
  "language_info": {
   "codemirror_mode": {
    "name": "ipython",
    "version": 3
   },
   "file_extension": ".py",
   "mimetype": "text/x-python",
   "name": "python",
   "nbconvert_exporter": "python",
   "pygments_lexer": "ipython3",
   "version": "3.7.16"
  }
 },
 "nbformat": 4,
 "nbformat_minor": 5
}
