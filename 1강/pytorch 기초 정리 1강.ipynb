{
 "cells": [
  {
   "cell_type": "code",
   "execution_count": 1,
   "id": "1d59df54",
   "metadata": {},
   "outputs": [],
   "source": [
    "import torch"
   ]
  },
  {
   "cell_type": "markdown",
   "id": "5b67921d",
   "metadata": {},
   "source": [
    "### 4.1 Pytorch"
   ]
  },
  {
   "cell_type": "markdown",
   "id": "a836b555",
   "metadata": {},
   "source": [
    "### scalar\n"
   ]
  },
  {
   "cell_type": "code",
   "execution_count": 10,
   "id": "be677733",
   "metadata": {},
   "outputs": [
    {
     "name": "stdout",
     "output_type": "stream",
     "text": [
      "tensor([1])\n",
      "tensor([3])\n"
     ]
    }
   ],
   "source": [
    "sca1 = torch.tensor([1])\n",
    "print(scalar1)\n",
    "\n",
    "sca2 = torch.tensor([3])\n",
    "print(scalar2)"
   ]
  },
  {
   "cell_type": "code",
   "execution_count": 11,
   "id": "b394fc5e",
   "metadata": {},
   "outputs": [
    {
     "name": "stdout",
     "output_type": "stream",
     "text": [
      "tensor([4])\n"
     ]
    }
   ],
   "source": [
    "add_scalar = sca1 + sca2\n",
    "print(add_scalar)"
   ]
  },
  {
   "cell_type": "code",
   "execution_count": 12,
   "id": "6c879c0d",
   "metadata": {},
   "outputs": [
    {
     "name": "stdout",
     "output_type": "stream",
     "text": [
      "tensor([-2])\n"
     ]
    }
   ],
   "source": [
    "sub_scalar = sca1 - sca2\n",
    "print(sub_scalar)"
   ]
  },
  {
   "cell_type": "code",
   "execution_count": 13,
   "id": "c1432141",
   "metadata": {},
   "outputs": [
    {
     "name": "stdout",
     "output_type": "stream",
     "text": [
      "tensor([3])\n"
     ]
    }
   ],
   "source": [
    "mul_scalar = sca1 * sca2\n",
    "print(mul_scalar)"
   ]
  },
  {
   "cell_type": "code",
   "execution_count": 14,
   "id": "d46d0fa1",
   "metadata": {},
   "outputs": [
    {
     "name": "stdout",
     "output_type": "stream",
     "text": [
      "tensor([0.3333])\n"
     ]
    }
   ],
   "source": [
    "div_scalar = sca1 / sca2\n",
    "print(div_scalar)"
   ]
  },
  {
   "cell_type": "code",
   "execution_count": 15,
   "id": "9a42995b",
   "metadata": {},
   "outputs": [
    {
     "data": {
      "text/plain": [
       "tensor([4])"
      ]
     },
     "execution_count": 15,
     "metadata": {},
     "output_type": "execute_result"
    }
   ],
   "source": [
    "torch.add(scalar1, scalar2)"
   ]
  },
  {
   "cell_type": "code",
   "execution_count": 16,
   "id": "01660070",
   "metadata": {},
   "outputs": [
    {
     "data": {
      "text/plain": [
       "tensor([-2])"
      ]
     },
     "execution_count": 16,
     "metadata": {},
     "output_type": "execute_result"
    }
   ],
   "source": [
    "torch.sub(scalar1, scalar2)"
   ]
  },
  {
   "cell_type": "code",
   "execution_count": 17,
   "id": "e5feb562",
   "metadata": {},
   "outputs": [
    {
     "data": {
      "text/plain": [
       "tensor([3])"
      ]
     },
     "execution_count": 17,
     "metadata": {},
     "output_type": "execute_result"
    }
   ],
   "source": [
    "torch.mul(scalar1, scalar2)"
   ]
  },
  {
   "cell_type": "code",
   "execution_count": 19,
   "id": "442ad563",
   "metadata": {},
   "outputs": [
    {
     "data": {
      "text/plain": [
       "tensor([0.3333])"
      ]
     },
     "execution_count": 19,
     "metadata": {},
     "output_type": "execute_result"
    }
   ],
   "source": [
    "torch.div(scalar1, scalar2)"
   ]
  },
  {
   "cell_type": "markdown",
   "id": "7f5ae4a3",
   "metadata": {},
   "source": [
    "### vector"
   ]
  },
  {
   "cell_type": "code",
   "execution_count": 20,
   "id": "685616d6",
   "metadata": {},
   "outputs": [
    {
     "name": "stdout",
     "output_type": "stream",
     "text": [
      "tensor([1, 2, 3])\n",
      "tensor([4, 5, 6])\n"
     ]
    }
   ],
   "source": [
    "vec1 = torch.tensor([1,2,3])\n",
    "print(vec1)\n",
    "\n",
    "vec2 = torch.tensor([4,5,6])\n",
    "print(vec2)"
   ]
  },
  {
   "cell_type": "code",
   "execution_count": 21,
   "id": "d619e3f9",
   "metadata": {},
   "outputs": [
    {
     "name": "stdout",
     "output_type": "stream",
     "text": [
      "tensor([5, 7, 9])\n"
     ]
    }
   ],
   "source": [
    "add_vector = vec1 + vec2\n",
    "print(add_vector)"
   ]
  },
  {
   "cell_type": "code",
   "execution_count": 22,
   "id": "864f2017",
   "metadata": {},
   "outputs": [
    {
     "name": "stdout",
     "output_type": "stream",
     "text": [
      "tensor([-3, -3, -3])\n"
     ]
    }
   ],
   "source": [
    "sub_vector = vec1 - vec2\n",
    "print(sub_vector)"
   ]
  },
  {
   "cell_type": "code",
   "execution_count": 23,
   "id": "b7c7312c",
   "metadata": {},
   "outputs": [
    {
     "name": "stdout",
     "output_type": "stream",
     "text": [
      "tensor([ 4, 10, 18])\n"
     ]
    }
   ],
   "source": [
    "mul_vector = vec1 * vec2\n",
    "print(mul_vector)"
   ]
  },
  {
   "cell_type": "code",
   "execution_count": 25,
   "id": "904cac0a",
   "metadata": {},
   "outputs": [
    {
     "name": "stdout",
     "output_type": "stream",
     "text": [
      "tensor([0.2500, 0.4000, 0.5000])\n"
     ]
    }
   ],
   "source": [
    "div_vector = vec1 / vec2\n",
    "print(div_vector)"
   ]
  },
  {
   "cell_type": "code",
   "execution_count": 26,
   "id": "54a972b9",
   "metadata": {},
   "outputs": [
    {
     "data": {
      "text/plain": [
       "tensor([5, 7, 9])"
      ]
     },
     "execution_count": 26,
     "metadata": {},
     "output_type": "execute_result"
    }
   ],
   "source": [
    "torch.add(vec1 ,vec2)"
   ]
  },
  {
   "cell_type": "code",
   "execution_count": 27,
   "id": "15d880a2",
   "metadata": {},
   "outputs": [
    {
     "data": {
      "text/plain": [
       "tensor([-3, -3, -3])"
      ]
     },
     "execution_count": 27,
     "metadata": {},
     "output_type": "execute_result"
    }
   ],
   "source": [
    "torch.sub(vec1, vec2)"
   ]
  },
  {
   "cell_type": "code",
   "execution_count": 28,
   "id": "4fcc0c37",
   "metadata": {},
   "outputs": [
    {
     "data": {
      "text/plain": [
       "tensor([ 4, 10, 18])"
      ]
     },
     "execution_count": 28,
     "metadata": {},
     "output_type": "execute_result"
    }
   ],
   "source": [
    "torch.mul(vec1, vec2)"
   ]
  },
  {
   "cell_type": "code",
   "execution_count": 29,
   "id": "21711100",
   "metadata": {},
   "outputs": [
    {
     "data": {
      "text/plain": [
       "tensor([0.2500, 0.4000, 0.5000])"
      ]
     },
     "execution_count": 29,
     "metadata": {},
     "output_type": "execute_result"
    }
   ],
   "source": [
    "torch.div(vec1, vec2)"
   ]
  },
  {
   "cell_type": "code",
   "execution_count": 30,
   "id": "ecb45f6c",
   "metadata": {},
   "outputs": [
    {
     "data": {
      "text/plain": [
       "tensor(32)"
      ]
     },
     "execution_count": 30,
     "metadata": {},
     "output_type": "execute_result"
    }
   ],
   "source": [
    "torch.dot(vec1 , vec2)"
   ]
  },
  {
   "cell_type": "markdown",
   "id": "c6b150b4",
   "metadata": {},
   "source": [
    "### 행렬"
   ]
  },
  {
   "cell_type": "code",
   "execution_count": 32,
   "id": "6df7c63b",
   "metadata": {},
   "outputs": [
    {
     "name": "stdout",
     "output_type": "stream",
     "text": [
      "tensor([[1, 2],\n",
      "        [3, 4]])\n",
      "tensor([[5, 6],\n",
      "        [7, 8]])\n"
     ]
    }
   ],
   "source": [
    "mat1 = torch.tensor([[1,2],[3,4]])\n",
    "print(mat1)\n",
    "\n",
    "mat2 = torch.tensor([[5,6], [7,8]])\n",
    "print(mat2)"
   ]
  },
  {
   "cell_type": "code",
   "execution_count": 33,
   "id": "52ea4006",
   "metadata": {},
   "outputs": [
    {
     "name": "stdout",
     "output_type": "stream",
     "text": [
      "tensor([[ 6,  8],\n",
      "        [10, 12]])\n"
     ]
    }
   ],
   "source": [
    "sum_mat = mat1 + mat2\n",
    "print(sum_mat)"
   ]
  },
  {
   "cell_type": "code",
   "execution_count": 34,
   "id": "48f34d93",
   "metadata": {},
   "outputs": [
    {
     "name": "stdout",
     "output_type": "stream",
     "text": [
      "tensor([[-4, -4],\n",
      "        [-4, -4]])\n"
     ]
    }
   ],
   "source": [
    "sub_mat = mat1 - mat2\n",
    "print(sub_mat)"
   ]
  },
  {
   "cell_type": "code",
   "execution_count": 35,
   "id": "1ad54414",
   "metadata": {},
   "outputs": [
    {
     "name": "stdout",
     "output_type": "stream",
     "text": [
      "tensor([[ 5, 12],\n",
      "        [21, 32]])\n"
     ]
    }
   ],
   "source": [
    "mul_mat = mat1 * mat2\n",
    "print(mul_mat)"
   ]
  },
  {
   "cell_type": "code",
   "execution_count": 36,
   "id": "3d40bf6c",
   "metadata": {},
   "outputs": [
    {
     "name": "stdout",
     "output_type": "stream",
     "text": [
      "tensor([[0.2000, 0.3333],\n",
      "        [0.4286, 0.5000]])\n"
     ]
    }
   ],
   "source": [
    "div_mat = mat1 / mat2\n",
    "print(div_mat)"
   ]
  },
  {
   "cell_type": "code",
   "execution_count": 37,
   "id": "9d22902b",
   "metadata": {},
   "outputs": [
    {
     "data": {
      "text/plain": [
       "tensor([[ 6,  8],\n",
       "        [10, 12]])"
      ]
     },
     "execution_count": 37,
     "metadata": {},
     "output_type": "execute_result"
    }
   ],
   "source": [
    "torch.add(mat1, mat2)"
   ]
  },
  {
   "cell_type": "code",
   "execution_count": 38,
   "id": "7d01c1ae",
   "metadata": {},
   "outputs": [
    {
     "data": {
      "text/plain": [
       "tensor([[-4, -4],\n",
       "        [-4, -4]])"
      ]
     },
     "execution_count": 38,
     "metadata": {},
     "output_type": "execute_result"
    }
   ],
   "source": [
    "torch.sub(mat1, mat2)"
   ]
  },
  {
   "cell_type": "code",
   "execution_count": 39,
   "id": "0a557eb3",
   "metadata": {},
   "outputs": [
    {
     "data": {
      "text/plain": [
       "tensor([[ 5, 12],\n",
       "        [21, 32]])"
      ]
     },
     "execution_count": 39,
     "metadata": {},
     "output_type": "execute_result"
    }
   ],
   "source": [
    "torch.mul(mat1, mat2)"
   ]
  },
  {
   "cell_type": "code",
   "execution_count": 40,
   "id": "97505a30",
   "metadata": {},
   "outputs": [
    {
     "data": {
      "text/plain": [
       "tensor([[0.2000, 0.3333],\n",
       "        [0.4286, 0.5000]])"
      ]
     },
     "execution_count": 40,
     "metadata": {},
     "output_type": "execute_result"
    }
   ],
   "source": [
    "torch.div(mat1, mat2)"
   ]
  },
  {
   "cell_type": "markdown",
   "id": "234ab722",
   "metadata": {},
   "source": [
    "### 텐서"
   ]
  },
  {
   "cell_type": "code",
   "execution_count": 48,
   "id": "3e000842",
   "metadata": {},
   "outputs": [
    {
     "name": "stdout",
     "output_type": "stream",
     "text": [
      "tensor([[[1, 2],\n",
      "         [3, 4]],\n",
      "\n",
      "        [[5, 6],\n",
      "         [7, 8]]])\n",
      "tensor([[[ 9, 10],\n",
      "         [11, 12]],\n",
      "\n",
      "        [[13, 14],\n",
      "         [15, 16]]])\n"
     ]
    }
   ],
   "source": [
    "ten1 = torch.tensor([[[1,2],[3,4]],[[5,6],[7,8]]])\n",
    "print(ten1)\n",
    "\n",
    "ten2 = torch.tensor([[[9,10],[11,12]],[[13,14],[15,16]]])\n",
    "print(ten2)"
   ]
  },
  {
   "cell_type": "code",
   "execution_count": 50,
   "id": "b45f726f",
   "metadata": {},
   "outputs": [
    {
     "name": "stdout",
     "output_type": "stream",
     "text": [
      "torch.Size([1])\n",
      "torch.Size([3])\n",
      "torch.Size([2, 2])\n",
      "torch.Size([2, 2, 2])\n"
     ]
    }
   ],
   "source": [
    "print(sca1.size())\n",
    "print(vec1.size())\n",
    "print(mat1.size())\n",
    "print(ten1.size()) # 뒤에 2개 2x2 행렬이 앞에 2개 있다는 것을 의미"
   ]
  },
  {
   "cell_type": "code",
   "execution_count": 51,
   "id": "2ace8daa",
   "metadata": {},
   "outputs": [
    {
     "name": "stdout",
     "output_type": "stream",
     "text": [
      "tensor([[[10, 12],\n",
      "         [14, 16]],\n",
      "\n",
      "        [[18, 20],\n",
      "         [22, 24]]])\n"
     ]
    }
   ],
   "source": [
    "sum_ten = ten1 + ten2\n",
    "print(sum_ten)"
   ]
  },
  {
   "cell_type": "code",
   "execution_count": 52,
   "id": "0c304b8a",
   "metadata": {},
   "outputs": [
    {
     "name": "stdout",
     "output_type": "stream",
     "text": [
      "tensor([[[-8, -8],\n",
      "         [-8, -8]],\n",
      "\n",
      "        [[-8, -8],\n",
      "         [-8, -8]]])\n"
     ]
    }
   ],
   "source": [
    "sub_ten = ten1 - ten2\n",
    "print(sub_ten)"
   ]
  },
  {
   "cell_type": "code",
   "execution_count": 53,
   "id": "3ef6d827",
   "metadata": {},
   "outputs": [
    {
     "name": "stdout",
     "output_type": "stream",
     "text": [
      "tensor([[[  9,  20],\n",
      "         [ 33,  48]],\n",
      "\n",
      "        [[ 65,  84],\n",
      "         [105, 128]]])\n"
     ]
    }
   ],
   "source": [
    "mul_ten = ten1 * ten2\n",
    "print(mul_ten)"
   ]
  },
  {
   "cell_type": "code",
   "execution_count": 54,
   "id": "42e87fa2",
   "metadata": {},
   "outputs": [
    {
     "name": "stdout",
     "output_type": "stream",
     "text": [
      "tensor([[[0.1111, 0.2000],\n",
      "         [0.2727, 0.3333]],\n",
      "\n",
      "        [[0.3846, 0.4286],\n",
      "         [0.4667, 0.5000]]])\n"
     ]
    }
   ],
   "source": [
    "div_ten = ten1 / ten2\n",
    "print(div_ten)"
   ]
  },
  {
   "cell_type": "code",
   "execution_count": 55,
   "id": "a94bc762",
   "metadata": {},
   "outputs": [
    {
     "data": {
      "text/plain": [
       "tensor([[[10, 12],\n",
       "         [14, 16]],\n",
       "\n",
       "        [[18, 20],\n",
       "         [22, 24]]])"
      ]
     },
     "execution_count": 55,
     "metadata": {},
     "output_type": "execute_result"
    }
   ],
   "source": [
    "torch.add(ten1, ten2)"
   ]
  },
  {
   "cell_type": "code",
   "execution_count": 56,
   "id": "43e4fcb1",
   "metadata": {},
   "outputs": [
    {
     "data": {
      "text/plain": [
       "tensor([[[-8, -8],\n",
       "         [-8, -8]],\n",
       "\n",
       "        [[-8, -8],\n",
       "         [-8, -8]]])"
      ]
     },
     "execution_count": 56,
     "metadata": {},
     "output_type": "execute_result"
    }
   ],
   "source": [
    "torch.sub(ten1, ten2)"
   ]
  },
  {
   "cell_type": "code",
   "execution_count": 57,
   "id": "3fb54fe3",
   "metadata": {},
   "outputs": [
    {
     "data": {
      "text/plain": [
       "tensor([[[  9,  20],\n",
       "         [ 33,  48]],\n",
       "\n",
       "        [[ 65,  84],\n",
       "         [105, 128]]])"
      ]
     },
     "execution_count": 57,
     "metadata": {},
     "output_type": "execute_result"
    }
   ],
   "source": [
    "torch.mul(ten1, ten2)"
   ]
  },
  {
   "cell_type": "code",
   "execution_count": 58,
   "id": "e8a6c55b",
   "metadata": {},
   "outputs": [
    {
     "data": {
      "text/plain": [
       "tensor([[[0.1111, 0.2000],\n",
       "         [0.2727, 0.3333]],\n",
       "\n",
       "        [[0.3846, 0.4286],\n",
       "         [0.4667, 0.5000]]])"
      ]
     },
     "execution_count": 58,
     "metadata": {},
     "output_type": "execute_result"
    }
   ],
   "source": [
    "torch.div(ten1, ten2)"
   ]
  },
  {
   "cell_type": "code",
   "execution_count": 60,
   "id": "5cd4bdeb",
   "metadata": {},
   "outputs": [
    {
     "data": {
      "text/plain": [
       "tensor([[[ 31,  34],\n",
       "         [ 71,  78]],\n",
       "\n",
       "        [[155, 166],\n",
       "         [211, 226]]])"
      ]
     },
     "execution_count": 60,
     "metadata": {},
     "output_type": "execute_result"
    }
   ],
   "source": [
    "torch.matmul(ten1, ten2) #행렬 곱"
   ]
  },
  {
   "cell_type": "code",
   "execution_count": 61,
   "id": "346a4363",
   "metadata": {},
   "outputs": [
    {
     "data": {
      "text/plain": [
       "tensor([[19, 22],\n",
       "        [43, 50]])"
      ]
     },
     "execution_count": 61,
     "metadata": {},
     "output_type": "execute_result"
    }
   ],
   "source": [
    "torch.matmul(mat1, mat2) #행렬 곱"
   ]
  },
  {
   "cell_type": "code",
   "execution_count": 62,
   "id": "8da0463d",
   "metadata": {},
   "outputs": [
    {
     "data": {
      "text/plain": [
       "tensor([[ 5, 12],\n",
       "        [21, 32]])"
      ]
     },
     "execution_count": 62,
     "metadata": {},
     "output_type": "execute_result"
    }
   ],
   "source": [
    "torch.mul(mat1, mat2)"
   ]
  },
  {
   "cell_type": "markdown",
   "id": "6bc020a8",
   "metadata": {},
   "source": [
    "### 4.2 Autograd"
   ]
  },
  {
   "cell_type": "code",
   "execution_count": 63,
   "id": "f974c2cf",
   "metadata": {},
   "outputs": [],
   "source": [
    "import torch\n",
    "\n",
    "if torch.cuda.is_available():\n",
    "    DEVICE = torch.device('cuda')\n",
    "else:\n",
    "    DEVICE = torch.device(\"cpu\")"
   ]
  },
  {
   "cell_type": "code",
   "execution_count": 71,
   "id": "1e17fdac",
   "metadata": {},
   "outputs": [],
   "source": [
    "BATCH_SIZE = 64 #배치가 64라서 \n",
    "INPUT_SIZE = 1000 #입력층의 노드 개수, 입력 데이터의 크기가 1000이라는 말. (64, 1000) 구조로 데이터가 들어감. \n",
    "HIDDEN_SIZE = 100\n",
    "OUTPUT_SIZE = 10"
   ]
  },
  {
   "cell_type": "code",
   "execution_count": 84,
   "id": "34d0a149",
   "metadata": {},
   "outputs": [],
   "source": [
    "x = torch.randn(BATCH_SIZE, INPUT_SIZE, device = DEVICE, dtype = torch.float, requires_grad = False)\n",
    "y = torch.randn(BATCH_SIZE, OUTPUT_SIZE, device = DEVICE, dtype = torch.float, requires_grad = False)\n",
    "w1 = torch.randn(INPUT_SIZE, HIDDEN_SIZE, device = DEVICE, dtype = torch.float, requires_grad = True)\n",
    "w2 = torch.randn(HIDDEN_SIZE, OUTPUT_SIZE, device = DEVICE, dtype = torch.float, requires_grad = True)"
   ]
  },
  {
   "cell_type": "code",
   "execution_count": 85,
   "id": "858c62b9",
   "metadata": {},
   "outputs": [
    {
     "name": "stdout",
     "output_type": "stream",
     "text": [
      "Iteration :  100 \t Loss : 583.5382080078125\n",
      "Iteration :  200 \t Loss : 3.012698173522949\n",
      "Iteration :  300 \t Loss : 0.025002874433994293\n",
      "Iteration :  400 \t Loss : 0.00046435382682830095\n",
      "Iteration :  500 \t Loss : 5.889447493245825e-05\n"
     ]
    }
   ],
   "source": [
    "learning_rate = 1e-6\n",
    "for t in range(1, 501):\n",
    "    y_pred = x.mm(w1).clamp(min = 0).mm(w2)\n",
    "    \n",
    "    loss = (y_pred - y).pow(2).sum()\n",
    "    if t % 100 == 0:\n",
    "        print(\"Iteration : \",t , '\\t', f'Loss : {loss.item()}')\n",
    "        \n",
    "    loss.backward()\n",
    "    \n",
    "    with torch.no_grad():\n",
    "        w1 -= learning_rate * w1.grad\n",
    "        w2 -= learning_rate * w2.grad\n",
    "        \n",
    "        w1.grad.zero_()\n",
    "        w2.grad.zero_()"
   ]
  },
  {
   "cell_type": "code",
   "execution_count": 76,
   "id": "940cec5e",
   "metadata": {},
   "outputs": [
    {
     "data": {
      "text/plain": [
       "torch.Size([64, 1000])"
      ]
     },
     "execution_count": 76,
     "metadata": {},
     "output_type": "execute_result"
    }
   ],
   "source": [
    "x.size()"
   ]
  },
  {
   "cell_type": "code",
   "execution_count": null,
   "id": "b4c24459",
   "metadata": {},
   "outputs": [],
   "source": []
  }
 ],
 "metadata": {
  "kernelspec": {
   "display_name": "NLP",
   "language": "python",
   "name": "nlp"
  },
  "language_info": {
   "codemirror_mode": {
    "name": "ipython",
    "version": 3
   },
   "file_extension": ".py",
   "mimetype": "text/x-python",
   "name": "python",
   "nbconvert_exporter": "python",
   "pygments_lexer": "ipython3",
   "version": "3.7.16"
  }
 },
 "nbformat": 4,
 "nbformat_minor": 5
}
